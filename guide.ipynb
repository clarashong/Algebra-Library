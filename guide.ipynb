{
 "cells": [
  {
   "cell_type": "code",
   "execution_count": 1,
   "metadata": {},
   "outputs": [],
   "source": [
    "from Main import *"
   ]
  },
  {
   "cell_type": "markdown",
   "metadata": {},
   "source": [
    "# Algebra and Math Sandbox"
   ]
  },
  {
   "cell_type": "markdown",
   "metadata": {},
   "source": [
    "## Divisibility"
   ]
  },
  {
   "cell_type": "markdown",
   "metadata": {},
   "source": [
    "### Remainder \n",
    "finds the remainder when the dividend is divided by the divisor. \n",
    "Ex. remainder(2,3) -> 2"
   ]
  },
  {
   "cell_type": "code",
   "execution_count": 22,
   "metadata": {},
   "outputs": [
    {
     "data": {
      "text/plain": [
       "0"
      ]
     },
     "execution_count": 22,
     "metadata": {},
     "output_type": "execute_result"
    }
   ],
   "source": [
    "# write function in the form as remainder(dividend, divisor)\n",
    "remainder(0,1)"
   ]
  },
  {
   "cell_type": "markdown",
   "metadata": {},
   "source": [
    "### Greatest Common Divisor\n",
    "finds the greatest common divisor between two integers. \n",
    "Ex. gcd(2,4) -> 2"
   ]
  },
  {
   "cell_type": "code",
   "execution_count": 2,
   "metadata": {},
   "outputs": [
    {
     "ename": "TypeError",
     "evalue": "'NoneType' object is not subscriptable",
     "output_type": "error",
     "traceback": [
      "\u001b[0;31m---------------------------------------------------------------------------\u001b[0m",
      "\u001b[0;31mTypeError\u001b[0m                                 Traceback (most recent call last)",
      "\u001b[1;32m/Users/clarahong/Desktop/dev/Python/Algebra-Library/guide.ipynb Cell 7\u001b[0m line \u001b[0;36m2\n\u001b[1;32m      <a href='vscode-notebook-cell:/Users/clarahong/Desktop/dev/Python/Algebra-Library/guide.ipynb#W6sZmlsZQ%3D%3D?line=0'>1</a>\u001b[0m \u001b[39m# write function in the form of gcd(integer a, integer b)\u001b[39;00m\n\u001b[0;32m----> <a href='vscode-notebook-cell:/Users/clarahong/Desktop/dev/Python/Algebra-Library/guide.ipynb#W6sZmlsZQ%3D%3D?line=1'>2</a>\u001b[0m gcd(\u001b[39m8\u001b[39;49m,\u001b[39m10\u001b[39;49m)\n",
      "File \u001b[0;32m~/Desktop/dev/Python/Algebra-Library/Main.py:12\u001b[0m, in \u001b[0;36mgcd\u001b[0;34m(a, b)\u001b[0m\n\u001b[1;32m     10\u001b[0m     \u001b[39mreturn\u001b[39;00m eea([\u001b[39m1\u001b[39m,\u001b[39m0\u001b[39m,a,\u001b[39m0\u001b[39m],[\u001b[39m0\u001b[39m,\u001b[39m1\u001b[39m,b,\u001b[39m0\u001b[39m])[\u001b[39m2\u001b[39m]\n\u001b[1;32m     11\u001b[0m \u001b[39melse\u001b[39;00m :\n\u001b[0;32m---> 12\u001b[0m     \u001b[39mreturn\u001b[39;00m eea([\u001b[39m1\u001b[39;49m,\u001b[39m0\u001b[39;49m,b,\u001b[39m0\u001b[39;49m],[\u001b[39m0\u001b[39;49m,\u001b[39m1\u001b[39;49m,a,\u001b[39m0\u001b[39;49m])[\u001b[39m2\u001b[39;49m]\n",
      "\u001b[0;31mTypeError\u001b[0m: 'NoneType' object is not subscriptable"
     ]
    }
   ],
   "source": [
    "# write function in the form of gcd(integer a, integer b)\n",
    "gcd(8,10)"
   ]
  }
 ],
 "metadata": {
  "kernelspec": {
   "display_name": "Python 3",
   "language": "python",
   "name": "python3"
  },
  "language_info": {
   "codemirror_mode": {
    "name": "ipython",
    "version": 3
   },
   "file_extension": ".py",
   "mimetype": "text/x-python",
   "name": "python",
   "nbconvert_exporter": "python",
   "pygments_lexer": "ipython3",
   "version": "3.9.6"
  }
 },
 "nbformat": 4,
 "nbformat_minor": 2
}
